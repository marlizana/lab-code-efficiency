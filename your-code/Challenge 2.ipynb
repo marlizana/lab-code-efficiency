{
 "cells": [
  {
   "cell_type": "markdown",
   "metadata": {},
   "source": [
    "# Challenge 2"
   ]
  },
  {
   "cell_type": "markdown",
   "metadata": {},
   "source": [
    "The code below generates a given number of random strings that consists of numbers and \n",
    "lower case English letters. You can also define the range of the variable lengths of\n",
    "the strings being generated.\n",
    "\n",
    "The code is functional but has a lot of room for improvement. Use what you have learned\n",
    "about simple and efficient code, refactor the code."
   ]
  },
  {
   "cell_type": "code",
   "execution_count": 1,
   "metadata": {
    "ExecuteTime": {
     "end_time": "2020-02-14T11:21:34.185415Z",
     "start_time": "2020-02-14T11:21:34.180673Z"
    }
   },
   "outputs": [],
   "source": [
    "import random\n",
    "import sys"
   ]
  },
  {
   "cell_type": "code",
   "execution_count": 2,
   "metadata": {
    "ExecuteTime": {
     "end_time": "2020-02-14T11:21:35.042282Z",
     "start_time": "2020-02-14T11:21:35.033581Z"
    }
   },
   "outputs": [],
   "source": [
    "def RandomStringGenerator(l=12, a=['a','b','c','d','e','f','g','h','i','j','k','l','m','n','o','p','q','r','s','t','u','v','w','x','y','z','0','1','2','3','4','5','6','7','8','9']):\n",
    "    p = 0\n",
    "    s = \"\"\n",
    "    while p < l:\n",
    "        s += random.choice(a)\n",
    "        p += 1\n",
    "    return s"
   ]
  },
  {
   "cell_type": "code",
   "execution_count": 3,
   "metadata": {
    "ExecuteTime": {
     "end_time": "2020-02-14T11:21:35.814690Z",
     "start_time": "2020-02-14T11:21:35.806915Z"
    }
   },
   "outputs": [],
   "source": [
    "def BatchStringGenerator(n, a=8, b=12):\n",
    "    r = []\n",
    "    for i in range(n):\n",
    "        if a < b:\n",
    "            c = random.choice(range(a, b))\n",
    "        elif a == b:\n",
    "            c = a\n",
    "        else:\n",
    "            sys.exit('Incorrect min and max string lengths. Try again.')\n",
    "        r.append(RandomStringGenerator(c))\n",
    "    return r"
   ]
  },
  {
   "cell_type": "code",
   "execution_count": 5,
   "metadata": {
    "ExecuteTime": {
     "end_time": "2020-02-14T11:22:10.147684Z",
     "start_time": "2020-02-14T11:22:05.511324Z"
    }
   },
   "outputs": [
    {
     "name": "stdout",
     "output_type": "stream",
     "text": [
      "Enter minimum string length: 4\n",
      "Enter maximum string length: 5\n",
      "How many random strings to generate? 4\n",
      "['4r51', 'd1qi', 'grk7', 'egr4']\n"
     ]
    }
   ],
   "source": [
    "a = input('Enter minimum string length: ')\n",
    "b = input('Enter maximum string length: ')\n",
    "n = input('How many random strings to generate? ')\n",
    "\n",
    "print(BatchStringGenerator(int(n), int(a), int(b)))"
   ]
  },
  {
   "cell_type": "code",
   "execution_count": 10,
   "metadata": {
    "ExecuteTime": {
     "end_time": "2020-02-14T11:25:50.025769Z",
     "start_time": "2020-02-14T11:25:44.574980Z"
    }
   },
   "outputs": [
    {
     "name": "stdout",
     "output_type": "stream",
     "text": [
      "Enter minimum string length: 4\n",
      "Enter maximum string length: 5\n",
      "How many random strings to generate? 2\n"
     ]
    },
    {
     "data": {
      "text/plain": [
       "['hpos', 'qokv']"
      ]
     },
     "execution_count": 10,
     "metadata": {},
     "output_type": "execute_result"
    }
   ],
   "source": [
    "def randompassword ():\n",
    "    \n",
    "    a = input('Enter minimum string length: ')\n",
    "    b = input('Enter maximum string length: ')\n",
    "    n = input('How many random strings to generate? ')\n",
    "    \n",
    "    \n",
    "    def RandomStringGenerator(l=12):\n",
    "        a=[\n",
    "            'a','b','c','d','e','f','g','h','i','j','k',\n",
    "            'l','m','n','o','p','q','r','s','t','u','v',\n",
    "            'w','x','y','z','0','1','2','3','4','5','6',\n",
    "            '7','8','9'\n",
    "        ]\n",
    "        p = 0\n",
    "        s = \"\"\n",
    "        while p < l:\n",
    "            s += random.choice(a)\n",
    "            p += 1\n",
    "        return s\n",
    "    \n",
    "    def BatchStringGenerator(n, a=8, b=12):\n",
    "        r = []\n",
    "        for i in range(n):\n",
    "            if a < b:\n",
    "                c = random.choice(range(a, b))\n",
    "            elif a == b:\n",
    "                c = a\n",
    "            else:\n",
    "                sys.exit('Incorrect min and max string lengths. Try again.')\n",
    "            r.append(RandomStringGenerator(c))\n",
    "        return r\n",
    "\n",
    "    return BatchStringGenerator(int(n), int(a), int(b))\n",
    "\n",
    "randompassword()"
   ]
  },
  {
   "cell_type": "code",
   "execution_count": null,
   "metadata": {},
   "outputs": [],
   "source": []
  }
 ],
 "metadata": {
  "kernelspec": {
   "display_name": "Python 3",
   "language": "python",
   "name": "python3"
  },
  "language_info": {
   "codemirror_mode": {
    "name": "ipython",
    "version": 3
   },
   "file_extension": ".py",
   "mimetype": "text/x-python",
   "name": "python",
   "nbconvert_exporter": "python",
   "pygments_lexer": "ipython3",
   "version": "3.7.4"
  },
  "toc": {
   "base_numbering": 1,
   "nav_menu": {},
   "number_sections": true,
   "sideBar": true,
   "skip_h1_title": false,
   "title_cell": "Table of Contents",
   "title_sidebar": "Contents",
   "toc_cell": false,
   "toc_position": {},
   "toc_section_display": true,
   "toc_window_display": false
  },
  "varInspector": {
   "cols": {
    "lenName": 16,
    "lenType": 16,
    "lenVar": 40
   },
   "kernels_config": {
    "python": {
     "delete_cmd_postfix": "",
     "delete_cmd_prefix": "del ",
     "library": "var_list.py",
     "varRefreshCmd": "print(var_dic_list())"
    },
    "r": {
     "delete_cmd_postfix": ") ",
     "delete_cmd_prefix": "rm(",
     "library": "var_list.r",
     "varRefreshCmd": "cat(var_dic_list()) "
    }
   },
   "types_to_exclude": [
    "module",
    "function",
    "builtin_function_or_method",
    "instance",
    "_Feature"
   ],
   "window_display": false
  }
 },
 "nbformat": 4,
 "nbformat_minor": 2
}
