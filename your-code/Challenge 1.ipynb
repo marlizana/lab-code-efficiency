{
 "cells": [
  {
   "cell_type": "markdown",
   "metadata": {},
   "source": [
    "# Challenge 1\n",
    "\n",
    "This is a dumb calculator that can add and subtract whole numbers from zero to five.\n",
    "When you run the code, you are prompted to enter two numbers (in the form of English\n",
    "word instead of number) and the operator sign (also in the form of English word).\n",
    "The code will perform the calculation and give the result if your input is what it\n",
    "expects.\n",
    "\n",
    "The code is very long and messy. Refactor it according to what you have learned about\n",
    "code simplicity and efficiency."
   ]
  },
  {
   "cell_type": "code",
   "execution_count": 1,
   "metadata": {},
   "outputs": [
    {
     "name": "stdout",
     "output_type": "stream",
     "text": [
      "Welcome to this calculator!\n",
      "It can add and subtract whole numbers from zero to five\n",
      "Please choose your first number (zero to five): zero\n",
      "What do you want to do? plus or minus: minus\n",
      "Please choose your second number (zero to five): five\n",
      "zero minus five equals negative five\n",
      "Thanks for using this calculator, goodbye :)\n"
     ]
    }
   ],
   "source": [
    "print('Welcome to this calculator!')\n",
    "print('It can add and subtract whole numbers from zero to five')\n",
    "a = input('Please choose your first number (zero to five): ')\n",
    "b = input('What do you want to do? plus or minus: ')\n",
    "c = input('Please choose your second number (zero to five): ')\n",
    "\n",
    "if a == 'zero' and b == 'plus'  and c == 'zero':\n",
    "    print(\"zero plus zero equals zero\")\n",
    "if a == 'zero' and b == 'plus'  and c == 'one':\n",
    "    print(\"zero plus one equals one\")\n",
    "if a == 'zero' and b == 'plus'  and c == 'two':\n",
    "    print(\"zero plus two equals two\")\n",
    "if a == 'zero' and b == 'plus'  and c == 'three':\n",
    "    print(\"zero plus three equals three\")\n",
    "if a == 'zero' and b == 'plus'  and c == 'four':\n",
    "    print(\"zero plus four equals four\")\n",
    "if a == 'zero' and b == 'plus'  and c == 'five':\n",
    "    print(\"zero plus five equals five\")\n",
    "if a == 'one' and b == 'plus'  and c == 'zero':\n",
    "    print(\"one plus zero equals one\")\n",
    "if a == 'one' and b == 'plus'  and c == 'one':\n",
    "    print(\"one plus one equals two\")\n",
    "if a == 'one' and b == 'plus'  and c == 'two':\n",
    "    print(\"one plus two equals three\")\n",
    "if a == 'one' and b == 'plus'  and c == 'three':\n",
    "    print(\"one plus three equals four\")\n",
    "if a == 'one' and b == 'plus'  and c == 'four':\n",
    "    print(\"one plus four equals five\")\n",
    "if a == 'one' and b == 'plus'  and c == 'five':\n",
    "    print(\"one plus five equals six\")\n",
    "if a == 'two' and b == 'plus'  and c == 'zero':\n",
    "    print(\"two plus zero equals two\")\n",
    "if a == 'two' and b == 'plus'  and c == 'one':\n",
    "    print(\"two plus one equals three\")\n",
    "if a == 'two' and b == 'plus'  and c == 'two':\n",
    "    print(\"two plus two equals four\")\n",
    "if a == 'two' and b == 'plus'  and c == 'three':\n",
    "    print(\"two plus three equals five\")\n",
    "if a == 'two' and b == 'plus'  and c == 'four':\n",
    "    print(\"two plus four equals six\")\n",
    "if a == 'two' and b == 'plus'  and c == 'five':\n",
    "    print(\"two plus five equals seven\")\n",
    "if a == 'three' and b == 'plus'  and c == 'zero':\n",
    "    print(\"three plus zero equals three\")\n",
    "if a == 'three' and b == 'plus'  and c == 'one':\n",
    "    print(\"three plus one equals four\")\n",
    "if a == 'three' and b == 'plus'  and c == 'two':\n",
    "    print(\"three plus two equals five\")\n",
    "if a == 'three' and b == 'plus'  and c == 'three':\n",
    "    print(\"three plus three equals six\")\n",
    "if a == 'three' and b == 'plus'  and c == 'four':\n",
    "    print(\"three plus four equals seven\")\n",
    "if a == 'three' and b == 'plus'  and c == 'five':\n",
    "    print(\"three plus five equals eight\")\n",
    "if a == 'four' and b == 'plus'  and c == 'zero':\n",
    "    print(\"four plus zero equals four\")\n",
    "if a == 'four' and b == 'plus'  and c == 'one':\n",
    "    print(\"four plus one equals five\")\n",
    "if a == 'four' and b == 'plus'  and c == 'two':\n",
    "    print(\"four plus two equals six\")\n",
    "if a == 'four' and b == 'plus'  and c == 'three':\n",
    "    print(\"four plus three equals seven\")\n",
    "if a == 'four' and b == 'plus'  and c == 'four':\n",
    "    print(\"four plus four equals eight\")\n",
    "if a == 'four' and b == 'plus'  and c == 'five':\n",
    "    print(\"four plus five equals nine\")\n",
    "if a == 'five' and b == 'plus'  and c == 'zero':\n",
    "    print(\"five plus zero equals five\")\n",
    "if a == 'five' and b == 'plus'  and c == 'one':\n",
    "    print(\"five plus one equals six\")\n",
    "if a == 'five' and b == 'plus'  and c == 'two':\n",
    "    print(\"five plus two equals seven\")\n",
    "if a == 'five' and b == 'plus'  and c == 'three':\n",
    "    print(\"five plus three equals eight\")\n",
    "if a == 'five' and b == 'plus'  and c == 'four':\n",
    "    print(\"five plus four equals nine\")\n",
    "if a == 'five' and b == 'plus'  and c == 'five':\n",
    "    print(\"five plus five equals ten\")\n",
    "\n",
    "\n",
    "if a == 'zero' and b == 'minus' and c == 'zero':\n",
    "    print(\"zero minus zero equals zero\")\n",
    "if a == 'zero' and b == 'minus' and c == 'one':\n",
    "    print(\"zero minus one equals negative one\")\n",
    "if a == 'zero' and b == 'minus' and c == 'two':\n",
    "    print(\"zero minus two equals negative two\")\n",
    "if a == 'zero' and b == 'minus' and c == 'three':\n",
    "    print(\"zero minus three equals negative three\")\n",
    "if a == 'zero' and b == 'minus' and c == 'four':\n",
    "    print(\"zero minus four equals negative four\")\n",
    "if a == 'zero' and b == 'minus' and c == 'five':\n",
    "    print(\"zero minus five equals negative five\")\n",
    "if a == 'one' and b == 'minus' and c == 'zero':\n",
    "    print(\"one minus zero equals one\")\n",
    "if a == 'one' and b == 'minus' and c == 'one':\n",
    "    print(\"one minus one equals zero\")\n",
    "if a == 'one' and b == 'minus' and c == 'two':\n",
    "    print(\"one minus two equals negative one\")\n",
    "if a == 'one' and b == 'minus' and c == 'three':\n",
    "    print(\"one minus three equals negative three\")\n",
    "if a == 'one' and b == 'minus' and c == 'four':\n",
    "    print(\"one minus four equals negative three\")\n",
    "if a == 'one' and b == 'minus' and c == 'five':\n",
    "    print(\"one minus five equals negative four\")\n",
    "if a == 'two' and b == 'minus' and c == 'zero':\n",
    "    print(\"two minus zero equals two\")\n",
    "if a == 'two' and b == 'minus' and c == 'one':\n",
    "    print(\"two minus one equals one\")\n",
    "if a == 'two' and b == 'minus' and c == 'two':\n",
    "    print(\"two minus two equals zero\")\n",
    "if a == 'two' and b == 'minus' and c == 'three':\n",
    "    print(\"two minus three equals negative one\")\n",
    "if a == 'two' and b == 'minus' and c == 'four':\n",
    "    print(\"two minus four equals negative two\")\n",
    "if a == 'two' and b == 'minus' and c == 'five':\n",
    "    print(\"two minus five equals negative three\")\n",
    "if a == 'three' and b == 'minus' and c == 'zero':\n",
    "    print(\"three minus zero equals three\")\n",
    "if a == 'three' and b == 'minus' and c == 'one':\n",
    "    print(\"three minus one equals two\")\n",
    "if a == 'three' and b == 'minus' and c == 'two':\n",
    "    print(\"three minus two equals one\")\n",
    "if a == 'three' and b == 'minus' and c == 'three':\n",
    "    print(\"three minus three equals zero\")\n",
    "if a == 'three' and b == 'minus' and c == 'four':\n",
    "    print(\"three minus four equals negative one\")\n",
    "if a == 'three' and b == 'minus' and c == 'five':\n",
    "    print(\"three minus five equals negative two\")\n",
    "if a == 'four' and b == 'minus' and c == 'zero':\n",
    "    print(\"four minus zero equals four\")\n",
    "if a == 'four' and b == 'minus' and c == 'one':\n",
    "    print(\"four minus one equals three\")\n",
    "if a == 'four' and b == 'minus' and c == 'two':\n",
    "    print(\"four minus two equals two\")\n",
    "if a == 'four' and b == 'minus' and c == 'three':\n",
    "    print(\"four minus three equals one\")\n",
    "if a == 'four' and b == 'minus' and c == 'four':\n",
    "    print(\"four minus four equals zero\")\n",
    "if a == 'four' and b == 'minus' and c == 'five':\n",
    "    print(\"four minus five equals negative one\")\n",
    "if a == 'five' and b == 'minus' and c == 'zero':\n",
    "    print(\"five minus zero equals five\")\n",
    "if a == 'five' and b == 'minus' and c == 'one':\n",
    "    print(\"five minus one equals four\")\n",
    "if a == 'five' and b == 'minus' and c == 'two':\n",
    "    print(\"five minus two equals three\")\n",
    "if a == 'five' and b == 'minus' and c == 'three':\n",
    "    print(\"five minus three equals two\")\n",
    "if a == 'five' and b == 'minus' and c == 'four':\n",
    "    print(\"five minus four equals one\")\n",
    "if a == 'five' and b == 'minus' and c == 'five':\n",
    "    print(\"five minus five equals zero\")\n",
    "\n",
    "\n",
    "if (not a == 'zero' and not a == 'one' and not a == 'two' and not a == 'three' and not a == 'four' and not a == 'five') or (not c == 'zero' and not c == 'one' and not c == 'two' and not c == 'three' and not c == 'four' and not c == 'five') or (not b == 'plus' and not b == 'minus'):\n",
    "    print(\"I am not able to answer this question. Check your input.\")\n",
    "\n",
    "print(\"Thanks for using this calculator, goodbye :)\")"
   ]
  },
  {
   "cell_type": "code",
   "execution_count": 1,
   "metadata": {
    "ExecuteTime": {
     "end_time": "2020-02-18T19:51:10.889578Z",
     "start_time": "2020-02-18T19:51:02.138255Z"
    }
   },
   "outputs": [
    {
     "name": "stdout",
     "output_type": "stream",
     "text": [
      "Welcome to this calculator!\n",
      "It can add and subtract whole numbers from zero to five\n",
      "Please choose your first number (zero to five): five\n",
      "What do you want to do? plus or minus: minus\n",
      "Please choose your second number (zero to five): two\n"
     ]
    },
    {
     "ename": "TypeError",
     "evalue": "argument of type 'builtin_function_or_method' is not iterable",
     "output_type": "error",
     "traceback": [
      "\u001b[0;31m---------------------------------------------------------------------------\u001b[0m",
      "\u001b[0;31mTypeError\u001b[0m                                 Traceback (most recent call last)",
      "\u001b[0;32m<ipython-input-1-32cd06d79f3e>\u001b[0m in \u001b[0;36m<module>\u001b[0;34m\u001b[0m\n\u001b[1;32m     12\u001b[0m \u001b[0;34m\u001b[0m\u001b[0m\n\u001b[1;32m     13\u001b[0m \u001b[0;34m\u001b[0m\u001b[0m\n\u001b[0;32m---> 14\u001b[0;31m \u001b[0;32mif\u001b[0m \u001b[0mn1\u001b[0m \u001b[0;32min\u001b[0m \u001b[0mdict_numbers\u001b[0m\u001b[0;34m.\u001b[0m\u001b[0mvalues\u001b[0m \u001b[0;32mand\u001b[0m \u001b[0mn2\u001b[0m \u001b[0;32min\u001b[0m \u001b[0mdict_numbers\u001b[0m\u001b[0;34m.\u001b[0m\u001b[0mvalues\u001b[0m \u001b[0;32mand\u001b[0m \u001b[0mop\u001b[0m \u001b[0;32min\u001b[0m \u001b[0;34m(\u001b[0m\u001b[0;34m'plus'\u001b[0m\u001b[0;34m,\u001b[0m \u001b[0;34m'minus'\u001b[0m\u001b[0;34m)\u001b[0m\u001b[0;34m:\u001b[0m\u001b[0;34m\u001b[0m\u001b[0;34m\u001b[0m\u001b[0m\n\u001b[0m\u001b[1;32m     15\u001b[0m     \u001b[0;32mif\u001b[0m \u001b[0mop\u001b[0m \u001b[0;34m==\u001b[0m \u001b[0;34m'plus'\u001b[0m\u001b[0;34m:\u001b[0m\u001b[0;34m\u001b[0m\u001b[0;34m\u001b[0m\u001b[0m\n\u001b[1;32m     16\u001b[0m         \u001b[0mprint\u001b[0m\u001b[0;34m(\u001b[0m\u001b[0;34mf\"\\n{n1} {op} {n2} equals {dict_numbers[dict_numbers.keys[n1] + dict_numbers.keys[n2]]}\"\u001b[0m\u001b[0;34m)\u001b[0m\u001b[0;34m\u001b[0m\u001b[0;34m\u001b[0m\u001b[0m\n",
      "\u001b[0;31mTypeError\u001b[0m: argument of type 'builtin_function_or_method' is not iterable"
     ]
    }
   ],
   "source": [
    "numbersint = [0,1,2,3,4,5,6,7,8,9,10]\n",
    "numbersword = [\"zero\", \"one\", \"two\", \"three\", \"four\", \"five\", \"six\", \"seven\", \"eight\", \"nine\", \"ten\"]\n",
    "dict_numbers = dict(zip(numbersint,numbersword))\n",
    "\n",
    "    \n",
    "print('Welcome to this calculator!')\n",
    "print('It can add and subtract whole numbers from zero to five')\n",
    "n1 = input('Please choose your first number (zero to five): ')\n",
    "op = input('What do you want to do? plus or minus: ')\n",
    "n2 = input('Please choose your second number (zero to five): ')\n",
    "\n",
    "def reverse_dic(dic):\n",
    "    '''\n",
    "    reverses dictionaries Key : Value\n",
    "    input: dictionary\n",
    "    output: dictionary\n",
    "    \n",
    "    input: Key_1 : Value_1\n",
    "    output: Value_1 : Key_1\n",
    "    '''\n",
    "    #Dictionary comprehension that creates the inversion of the string_number_dic \n",
    "    rev_dic = {value : key for key, value in dic.items()}\n",
    "    return rev_dic\n",
    "\n",
    "\n",
    "    \n",
    "if n1 in dict_numbers.values and n2 in dict_numbers.values and op in ('plus', 'minus'):\n",
    "    if op == 'plus':\n",
    "        print(f\"\\n{n1} {op} {n2} equals {dict_numbers[dict_numbers.keys[n1] + dict_numbers.keys[n2]]}\")\n",
    "    elif op == 'minus':\n",
    "        if dict_numbers.keys[n1] - dict_numbers.keys[n2] < 0:\n",
    "                print(f\"\\n{n1} {op} {n2} equals negative {dict_numbers[dict_numbers.keys[n1] + dict_numbers.keys[n2]]}\")\n",
    "        else:\n",
    "            print(f\"\\n{n1} {op} {n2} equals {dict_numbers[dict_numbers.keys[n1] - dict_numbers.keys[n2]]}\")\n",
    "else:\n",
    "    print(f\"\\nI am not able to answer this question. Check your input.\")\n",
    "print(f\"\\nThanks for using this calculator, goodbye\")"
   ]
  },
  {
   "cell_type": "code",
   "execution_count": 10,
   "metadata": {
    "ExecuteTime": {
     "end_time": "2020-02-14T11:06:56.613073Z",
     "start_time": "2020-02-14T11:06:56.596406Z"
    }
   },
   "outputs": [
    {
     "ename": "TypeError",
     "evalue": "list indices must be integers or slices, not str",
     "output_type": "error",
     "traceback": [
      "\u001b[0;31m---------------------------------------------------------------------------\u001b[0m",
      "\u001b[0;31mTypeError\u001b[0m                                 Traceback (most recent call last)",
      "\u001b[0;32m<ipython-input-10-866494681738>\u001b[0m in \u001b[0;36m<module>\u001b[0;34m\u001b[0m\n\u001b[0;32m----> 1\u001b[0;31m \u001b[0mlist\u001b[0m\u001b[0;34m(\u001b[0m\u001b[0mdict_numbers\u001b[0m\u001b[0;34m.\u001b[0m\u001b[0mkeys\u001b[0m\u001b[0;34m(\u001b[0m\u001b[0;34m)\u001b[0m\u001b[0;34m)\u001b[0m\u001b[0;34m[\u001b[0m\u001b[0;34m\"zero\"\u001b[0m\u001b[0;34m]\u001b[0m\u001b[0;34m\u001b[0m\u001b[0;34m\u001b[0m\u001b[0m\n\u001b[0m",
      "\u001b[0;31mTypeError\u001b[0m: list indices must be integers or slices, not str"
     ]
    }
   ],
   "source": []
  },
  {
   "cell_type": "code",
   "execution_count": null,
   "metadata": {},
   "outputs": [],
   "source": []
  }
 ],
 "metadata": {
  "kernelspec": {
   "display_name": "Python 3",
   "language": "python",
   "name": "python3"
  },
  "language_info": {
   "codemirror_mode": {
    "name": "ipython",
    "version": 3
   },
   "file_extension": ".py",
   "mimetype": "text/x-python",
   "name": "python",
   "nbconvert_exporter": "python",
   "pygments_lexer": "ipython3",
   "version": "3.7.4"
  },
  "toc": {
   "base_numbering": 1,
   "nav_menu": {},
   "number_sections": true,
   "sideBar": true,
   "skip_h1_title": false,
   "title_cell": "Table of Contents",
   "title_sidebar": "Contents",
   "toc_cell": false,
   "toc_position": {},
   "toc_section_display": true,
   "toc_window_display": false
  },
  "varInspector": {
   "cols": {
    "lenName": 16,
    "lenType": 16,
    "lenVar": 40
   },
   "kernels_config": {
    "python": {
     "delete_cmd_postfix": "",
     "delete_cmd_prefix": "del ",
     "library": "var_list.py",
     "varRefreshCmd": "print(var_dic_list())"
    },
    "r": {
     "delete_cmd_postfix": ") ",
     "delete_cmd_prefix": "rm(",
     "library": "var_list.r",
     "varRefreshCmd": "cat(var_dic_list()) "
    }
   },
   "types_to_exclude": [
    "module",
    "function",
    "builtin_function_or_method",
    "instance",
    "_Feature"
   ],
   "window_display": false
  }
 },
 "nbformat": 4,
 "nbformat_minor": 2
}
